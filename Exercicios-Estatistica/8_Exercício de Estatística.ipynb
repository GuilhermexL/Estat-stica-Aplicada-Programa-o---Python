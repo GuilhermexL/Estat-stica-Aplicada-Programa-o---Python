{
 "cells": [
  {
   "cell_type": "markdown",
   "id": "e233c99c",
   "metadata": {},
   "source": [
    "# Estatística Aplicada à Computação/Telemática \n",
    "# Lista de Exercícios 10b"
   ]
  },
  {
   "cell_type": "markdown",
   "id": "690d4b9e",
   "metadata": {},
   "source": [
    "__Aluno:__ Guilherme Santos Silva"
   ]
  },
  {
   "cell_type": "code",
   "execution_count": 1,
   "id": "ece125f0",
   "metadata": {},
   "outputs": [],
   "source": [
    "import pandas as pd\n",
    "import numpy as np"
   ]
  },
  {
   "cell_type": "markdown",
   "id": "5202a437",
   "metadata": {},
   "source": [
    "# Atividade 2.1"
   ]
  },
  {
   "cell_type": "code",
   "execution_count": 2,
   "id": "85ca608b",
   "metadata": {},
   "outputs": [],
   "source": [
    "df = {'Nome' : ['João da Silva', 'Pedro Fernandes', 'Maria Freitas', 'Paula Gonçalves', 'Ana Freitas', 'Luiz Costa', 'André Souza', 'Patrícia Silva', 'Regina Lima', 'Alfredo Souza',  'Margarete Cunha', 'Pedro Barbosa', 'Ricardo Alves', 'Márcio Rezende', 'Ana Carolina Chaves' ],\n",
    "     'Idade' : ['36', '51', '26', '25', '29', '53', '42', '38', '35', '45', '26', '37', '24', '31', '29'],\n",
    "     'Salário' : ['6300', '5700', '4500', '3800', '3200', '7300', '7100', '5600', '6400', '7000', '3700', '6500', '4000', '5100', '4500']}"
   ]
  },
  {
   "cell_type": "code",
   "execution_count": 3,
   "id": "9eca296a",
   "metadata": {},
   "outputs": [
    {
     "data": {
      "text/html": [
       "<div>\n",
       "<style scoped>\n",
       "    .dataframe tbody tr th:only-of-type {\n",
       "        vertical-align: middle;\n",
       "    }\n",
       "\n",
       "    .dataframe tbody tr th {\n",
       "        vertical-align: top;\n",
       "    }\n",
       "\n",
       "    .dataframe thead th {\n",
       "        text-align: right;\n",
       "    }\n",
       "</style>\n",
       "<table border=\"1\" class=\"dataframe\">\n",
       "  <thead>\n",
       "    <tr style=\"text-align: right;\">\n",
       "      <th></th>\n",
       "      <th>Nome</th>\n",
       "      <th>Idade</th>\n",
       "      <th>Salário</th>\n",
       "    </tr>\n",
       "  </thead>\n",
       "  <tbody>\n",
       "    <tr>\n",
       "      <th>0</th>\n",
       "      <td>João da Silva</td>\n",
       "      <td>36</td>\n",
       "      <td>6300</td>\n",
       "    </tr>\n",
       "    <tr>\n",
       "      <th>1</th>\n",
       "      <td>Pedro Fernandes</td>\n",
       "      <td>51</td>\n",
       "      <td>5700</td>\n",
       "    </tr>\n",
       "    <tr>\n",
       "      <th>2</th>\n",
       "      <td>Maria Freitas</td>\n",
       "      <td>26</td>\n",
       "      <td>4500</td>\n",
       "    </tr>\n",
       "    <tr>\n",
       "      <th>3</th>\n",
       "      <td>Paula Gonçalves</td>\n",
       "      <td>25</td>\n",
       "      <td>3800</td>\n",
       "    </tr>\n",
       "    <tr>\n",
       "      <th>4</th>\n",
       "      <td>Ana Freitas</td>\n",
       "      <td>29</td>\n",
       "      <td>3200</td>\n",
       "    </tr>\n",
       "    <tr>\n",
       "      <th>5</th>\n",
       "      <td>Luiz Costa</td>\n",
       "      <td>53</td>\n",
       "      <td>7300</td>\n",
       "    </tr>\n",
       "    <tr>\n",
       "      <th>6</th>\n",
       "      <td>André Souza</td>\n",
       "      <td>42</td>\n",
       "      <td>7100</td>\n",
       "    </tr>\n",
       "    <tr>\n",
       "      <th>7</th>\n",
       "      <td>Patrícia Silva</td>\n",
       "      <td>38</td>\n",
       "      <td>5600</td>\n",
       "    </tr>\n",
       "    <tr>\n",
       "      <th>8</th>\n",
       "      <td>Regina Lima</td>\n",
       "      <td>35</td>\n",
       "      <td>6400</td>\n",
       "    </tr>\n",
       "    <tr>\n",
       "      <th>9</th>\n",
       "      <td>Alfredo Souza</td>\n",
       "      <td>45</td>\n",
       "      <td>7000</td>\n",
       "    </tr>\n",
       "    <tr>\n",
       "      <th>10</th>\n",
       "      <td>Margarete Cunha</td>\n",
       "      <td>26</td>\n",
       "      <td>3700</td>\n",
       "    </tr>\n",
       "    <tr>\n",
       "      <th>11</th>\n",
       "      <td>Pedro Barbosa</td>\n",
       "      <td>37</td>\n",
       "      <td>6500</td>\n",
       "    </tr>\n",
       "    <tr>\n",
       "      <th>12</th>\n",
       "      <td>Ricardo Alves</td>\n",
       "      <td>24</td>\n",
       "      <td>4000</td>\n",
       "    </tr>\n",
       "    <tr>\n",
       "      <th>13</th>\n",
       "      <td>Márcio Rezende</td>\n",
       "      <td>31</td>\n",
       "      <td>5100</td>\n",
       "    </tr>\n",
       "    <tr>\n",
       "      <th>14</th>\n",
       "      <td>Ana Carolina Chaves</td>\n",
       "      <td>29</td>\n",
       "      <td>4500</td>\n",
       "    </tr>\n",
       "  </tbody>\n",
       "</table>\n",
       "</div>"
      ],
      "text/plain": [
       "                   Nome Idade Salário\n",
       "0         João da Silva    36    6300\n",
       "1       Pedro Fernandes    51    5700\n",
       "2         Maria Freitas    26    4500\n",
       "3       Paula Gonçalves    25    3800\n",
       "4           Ana Freitas    29    3200\n",
       "5            Luiz Costa    53    7300\n",
       "6           André Souza    42    7100\n",
       "7        Patrícia Silva    38    5600\n",
       "8           Regina Lima    35    6400\n",
       "9         Alfredo Souza    45    7000\n",
       "10      Margarete Cunha    26    3700\n",
       "11        Pedro Barbosa    37    6500\n",
       "12        Ricardo Alves    24    4000\n",
       "13       Márcio Rezende    31    5100\n",
       "14  Ana Carolina Chaves    29    4500"
      ]
     },
     "execution_count": 3,
     "metadata": {},
     "output_type": "execute_result"
    }
   ],
   "source": [
    "tab = pd.DataFrame(df)\n",
    "tab"
   ]
  },
  {
   "cell_type": "markdown",
   "id": "f178a91c",
   "metadata": {},
   "source": [
    "__1. Na Tabela 2.2 temos as informações sobre idade e salário para os 15 funcionários do Departamento de Recursos Humanos. Construa uma tabela de frequências para a idade, levando em conta as mesmas faixas etárias utilizadas acima.__"
   ]
  },
  {
   "cell_type": "code",
   "execution_count": 4,
   "id": "4bf5b8e7",
   "metadata": {},
   "outputs": [
    {
     "data": {
      "text/html": [
       "<div>\n",
       "<style scoped>\n",
       "    .dataframe tbody tr th:only-of-type {\n",
       "        vertical-align: middle;\n",
       "    }\n",
       "\n",
       "    .dataframe tbody tr th {\n",
       "        vertical-align: top;\n",
       "    }\n",
       "\n",
       "    .dataframe thead th {\n",
       "        text-align: right;\n",
       "    }\n",
       "</style>\n",
       "<table border=\"1\" class=\"dataframe\">\n",
       "  <thead>\n",
       "    <tr style=\"text-align: right;\">\n",
       "      <th></th>\n",
       "      <th>Nome</th>\n",
       "      <th>Idade</th>\n",
       "      <th>Salário</th>\n",
       "    </tr>\n",
       "  </thead>\n",
       "  <tbody>\n",
       "    <tr>\n",
       "      <th>12</th>\n",
       "      <td>Ricardo Alves</td>\n",
       "      <td>24</td>\n",
       "      <td>4000</td>\n",
       "    </tr>\n",
       "    <tr>\n",
       "      <th>3</th>\n",
       "      <td>Paula Gonçalves</td>\n",
       "      <td>25</td>\n",
       "      <td>3800</td>\n",
       "    </tr>\n",
       "    <tr>\n",
       "      <th>2</th>\n",
       "      <td>Maria Freitas</td>\n",
       "      <td>26</td>\n",
       "      <td>4500</td>\n",
       "    </tr>\n",
       "    <tr>\n",
       "      <th>10</th>\n",
       "      <td>Margarete Cunha</td>\n",
       "      <td>26</td>\n",
       "      <td>3700</td>\n",
       "    </tr>\n",
       "    <tr>\n",
       "      <th>4</th>\n",
       "      <td>Ana Freitas</td>\n",
       "      <td>29</td>\n",
       "      <td>3200</td>\n",
       "    </tr>\n",
       "    <tr>\n",
       "      <th>14</th>\n",
       "      <td>Ana Carolina Chaves</td>\n",
       "      <td>29</td>\n",
       "      <td>4500</td>\n",
       "    </tr>\n",
       "    <tr>\n",
       "      <th>13</th>\n",
       "      <td>Márcio Rezende</td>\n",
       "      <td>31</td>\n",
       "      <td>5100</td>\n",
       "    </tr>\n",
       "    <tr>\n",
       "      <th>8</th>\n",
       "      <td>Regina Lima</td>\n",
       "      <td>35</td>\n",
       "      <td>6400</td>\n",
       "    </tr>\n",
       "    <tr>\n",
       "      <th>0</th>\n",
       "      <td>João da Silva</td>\n",
       "      <td>36</td>\n",
       "      <td>6300</td>\n",
       "    </tr>\n",
       "    <tr>\n",
       "      <th>11</th>\n",
       "      <td>Pedro Barbosa</td>\n",
       "      <td>37</td>\n",
       "      <td>6500</td>\n",
       "    </tr>\n",
       "    <tr>\n",
       "      <th>7</th>\n",
       "      <td>Patrícia Silva</td>\n",
       "      <td>38</td>\n",
       "      <td>5600</td>\n",
       "    </tr>\n",
       "    <tr>\n",
       "      <th>6</th>\n",
       "      <td>André Souza</td>\n",
       "      <td>42</td>\n",
       "      <td>7100</td>\n",
       "    </tr>\n",
       "    <tr>\n",
       "      <th>9</th>\n",
       "      <td>Alfredo Souza</td>\n",
       "      <td>45</td>\n",
       "      <td>7000</td>\n",
       "    </tr>\n",
       "    <tr>\n",
       "      <th>1</th>\n",
       "      <td>Pedro Fernandes</td>\n",
       "      <td>51</td>\n",
       "      <td>5700</td>\n",
       "    </tr>\n",
       "    <tr>\n",
       "      <th>5</th>\n",
       "      <td>Luiz Costa</td>\n",
       "      <td>53</td>\n",
       "      <td>7300</td>\n",
       "    </tr>\n",
       "  </tbody>\n",
       "</table>\n",
       "</div>"
      ],
      "text/plain": [
       "                   Nome Idade Salário\n",
       "12        Ricardo Alves    24    4000\n",
       "3       Paula Gonçalves    25    3800\n",
       "2         Maria Freitas    26    4500\n",
       "10      Margarete Cunha    26    3700\n",
       "4           Ana Freitas    29    3200\n",
       "14  Ana Carolina Chaves    29    4500\n",
       "13       Márcio Rezende    31    5100\n",
       "8           Regina Lima    35    6400\n",
       "0         João da Silva    36    6300\n",
       "11        Pedro Barbosa    37    6500\n",
       "7        Patrícia Silva    38    5600\n",
       "6           André Souza    42    7100\n",
       "9         Alfredo Souza    45    7000\n",
       "1       Pedro Fernandes    51    5700\n",
       "5            Luiz Costa    53    7300"
      ]
     },
     "execution_count": 4,
     "metadata": {},
     "output_type": "execute_result"
    }
   ],
   "source": [
    "#colocando as idades em ordem.\n",
    "tab.sort_values('Idade')"
   ]
  },
  {
   "cell_type": "code",
   "execution_count": 5,
   "id": "2ec32768",
   "metadata": {},
   "outputs": [
    {
     "data": {
      "text/plain": [
       "29    2\n",
       "26    2\n",
       "38    1\n",
       "51    1\n",
       "36    1\n",
       "24    1\n",
       "42    1\n",
       "31    1\n",
       "37    1\n",
       "35    1\n",
       "45    1\n",
       "53    1\n",
       "25    1\n",
       "Name: Idade, dtype: int64"
      ]
     },
     "execution_count": 5,
     "metadata": {},
     "output_type": "execute_result"
    }
   ],
   "source": [
    "tab['Idade'].value_counts(0)"
   ]
  },
  {
   "cell_type": "markdown",
   "id": "19f3fed9",
   "metadata": {},
   "source": [
    "# Atividade 2.2"
   ]
  },
  {
   "cell_type": "markdown",
   "id": "3b018958",
   "metadata": {},
   "source": [
    "__2. Construa uma distribuição de frequências agrupadas em 5 classes de mesmo comprimento para os dados de salários da Tabela 2.2.__"
   ]
  },
  {
   "cell_type": "code",
   "execution_count": 6,
   "id": "da2c86bf",
   "metadata": {},
   "outputs": [
    {
     "data": {
      "text/plain": [
       "4500    2\n",
       "6400    1\n",
       "5600    1\n",
       "6300    1\n",
       "5100    1\n",
       "Name: Salário, dtype: int64"
      ]
     },
     "execution_count": 6,
     "metadata": {},
     "output_type": "execute_result"
    }
   ],
   "source": [
    "tab['Salário'].value_counts(0).head(5)"
   ]
  }
 ],
 "metadata": {
  "kernelspec": {
   "display_name": "Python 3",
   "language": "python",
   "name": "python3"
  },
  "language_info": {
   "codemirror_mode": {
    "name": "ipython",
    "version": 3
   },
   "file_extension": ".py",
   "mimetype": "text/x-python",
   "name": "python",
   "nbconvert_exporter": "python",
   "pygments_lexer": "ipython3",
   "version": "3.8.8"
  }
 },
 "nbformat": 4,
 "nbformat_minor": 5
}
