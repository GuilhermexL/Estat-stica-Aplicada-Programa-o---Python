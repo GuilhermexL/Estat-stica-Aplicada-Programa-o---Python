{
 "cells": [
  {
   "cell_type": "markdown",
   "id": "d2f3ebe0",
   "metadata": {},
   "source": [
    "# Lista de Exercícios 4a"
   ]
  },
  {
   "cell_type": "markdown",
   "id": "c6a94cc2",
   "metadata": {},
   "source": [
    "# Aluno: Guilherme Santos Silva"
   ]
  },
  {
   "cell_type": "markdown",
   "id": "8911e20c",
   "metadata": {},
   "source": [
    "__1.__ Considere as tabelas de vendas diárias de três lojas:"
   ]
  },
  {
   "cell_type": "code",
   "execution_count": 1,
   "id": "e3258d96",
   "metadata": {},
   "outputs": [],
   "source": [
    "import numpy as np\n",
    "import pandas as pd"
   ]
  },
  {
   "cell_type": "code",
   "execution_count": 2,
   "id": "b005c3c8",
   "metadata": {},
   "outputs": [],
   "source": [
    "Mercearia = pd.DataFrame({\"loja\":[\"A\", \"A\", \"A\"], \"dia\": [\"sex\", \"sab\", \"dom\"], \"valor\": [7500, 9500, 8200]})"
   ]
  },
  {
   "cell_type": "code",
   "execution_count": 3,
   "id": "57d5bbf7",
   "metadata": {},
   "outputs": [],
   "source": [
    "Farmácia = pd.DataFrame({\"loja\":[\"B\", \"B\", \"B\"], \"dia\": [\"sex\", \"sab\", \"dom\"], \"valor\": [5100, 8250, 9900]})"
   ]
  },
  {
   "cell_type": "code",
   "execution_count": 4,
   "id": "62c5bcb7",
   "metadata": {},
   "outputs": [],
   "source": [
    "Restaurante = pd.DataFrame({\"loja\":[\"C\", \"C\"], \"dia\": [\"sab\", \"dom\"], \"valor\": [7500, 11800]})"
   ]
  },
  {
   "cell_type": "markdown",
   "id": "fd7ebbae",
   "metadata": {},
   "source": [
    "__Crie dois novos dataframes por meio da junção dos três acima, agrupando, para isso,\n",
    "os dataframes no sentido de linha para criar um, e no sentido de coluna para criar\n",
    "o segundo. Explique as diferenças entre as duas saídas, principalmente a ocorrência\n",
    "de valores NaN.__"
   ]
  },
  {
   "cell_type": "code",
   "execution_count": 5,
   "id": "9af69e0f",
   "metadata": {},
   "outputs": [
    {
     "data": {
      "text/html": [
       "<div>\n",
       "<style scoped>\n",
       "    .dataframe tbody tr th:only-of-type {\n",
       "        vertical-align: middle;\n",
       "    }\n",
       "\n",
       "    .dataframe tbody tr th {\n",
       "        vertical-align: top;\n",
       "    }\n",
       "\n",
       "    .dataframe thead th {\n",
       "        text-align: right;\n",
       "    }\n",
       "</style>\n",
       "<table border=\"1\" class=\"dataframe\">\n",
       "  <thead>\n",
       "    <tr style=\"text-align: right;\">\n",
       "      <th></th>\n",
       "      <th>loja</th>\n",
       "      <th>dia</th>\n",
       "      <th>valor</th>\n",
       "    </tr>\n",
       "  </thead>\n",
       "  <tbody>\n",
       "    <tr>\n",
       "      <th>0</th>\n",
       "      <td>A</td>\n",
       "      <td>sex</td>\n",
       "      <td>7500</td>\n",
       "    </tr>\n",
       "    <tr>\n",
       "      <th>1</th>\n",
       "      <td>A</td>\n",
       "      <td>sab</td>\n",
       "      <td>9500</td>\n",
       "    </tr>\n",
       "    <tr>\n",
       "      <th>2</th>\n",
       "      <td>A</td>\n",
       "      <td>dom</td>\n",
       "      <td>8200</td>\n",
       "    </tr>\n",
       "    <tr>\n",
       "      <th>3</th>\n",
       "      <td>B</td>\n",
       "      <td>sex</td>\n",
       "      <td>5100</td>\n",
       "    </tr>\n",
       "    <tr>\n",
       "      <th>4</th>\n",
       "      <td>B</td>\n",
       "      <td>sab</td>\n",
       "      <td>8250</td>\n",
       "    </tr>\n",
       "    <tr>\n",
       "      <th>5</th>\n",
       "      <td>B</td>\n",
       "      <td>dom</td>\n",
       "      <td>9900</td>\n",
       "    </tr>\n",
       "    <tr>\n",
       "      <th>6</th>\n",
       "      <td>C</td>\n",
       "      <td>sab</td>\n",
       "      <td>7500</td>\n",
       "    </tr>\n",
       "    <tr>\n",
       "      <th>7</th>\n",
       "      <td>C</td>\n",
       "      <td>dom</td>\n",
       "      <td>11800</td>\n",
       "    </tr>\n",
       "  </tbody>\n",
       "</table>\n",
       "</div>"
      ],
      "text/plain": [
       "  loja  dia  valor\n",
       "0    A  sex   7500\n",
       "1    A  sab   9500\n",
       "2    A  dom   8200\n",
       "3    B  sex   5100\n",
       "4    B  sab   8250\n",
       "5    B  dom   9900\n",
       "6    C  sab   7500\n",
       "7    C  dom  11800"
      ]
     },
     "execution_count": 5,
     "metadata": {},
     "output_type": "execute_result"
    }
   ],
   "source": [
    "pd.concat([Mercearia, Farmácia, Restaurante], ignore_index=True)"
   ]
  },
  {
   "cell_type": "code",
   "execution_count": 6,
   "id": "e53c73e7",
   "metadata": {},
   "outputs": [
    {
     "data": {
      "text/html": [
       "<div>\n",
       "<style scoped>\n",
       "    .dataframe tbody tr th:only-of-type {\n",
       "        vertical-align: middle;\n",
       "    }\n",
       "\n",
       "    .dataframe tbody tr th {\n",
       "        vertical-align: top;\n",
       "    }\n",
       "\n",
       "    .dataframe thead th {\n",
       "        text-align: right;\n",
       "    }\n",
       "</style>\n",
       "<table border=\"1\" class=\"dataframe\">\n",
       "  <thead>\n",
       "    <tr style=\"text-align: right;\">\n",
       "      <th></th>\n",
       "      <th>loja</th>\n",
       "      <th>dia</th>\n",
       "      <th>valor</th>\n",
       "      <th>loja</th>\n",
       "      <th>dia</th>\n",
       "      <th>valor</th>\n",
       "      <th>loja</th>\n",
       "      <th>dia</th>\n",
       "      <th>valor</th>\n",
       "    </tr>\n",
       "  </thead>\n",
       "  <tbody>\n",
       "    <tr>\n",
       "      <th>0</th>\n",
       "      <td>A</td>\n",
       "      <td>sex</td>\n",
       "      <td>7500</td>\n",
       "      <td>B</td>\n",
       "      <td>sex</td>\n",
       "      <td>5100</td>\n",
       "      <td>C</td>\n",
       "      <td>sab</td>\n",
       "      <td>7500.0</td>\n",
       "    </tr>\n",
       "    <tr>\n",
       "      <th>1</th>\n",
       "      <td>A</td>\n",
       "      <td>sab</td>\n",
       "      <td>9500</td>\n",
       "      <td>B</td>\n",
       "      <td>sab</td>\n",
       "      <td>8250</td>\n",
       "      <td>C</td>\n",
       "      <td>dom</td>\n",
       "      <td>11800.0</td>\n",
       "    </tr>\n",
       "    <tr>\n",
       "      <th>2</th>\n",
       "      <td>A</td>\n",
       "      <td>dom</td>\n",
       "      <td>8200</td>\n",
       "      <td>B</td>\n",
       "      <td>dom</td>\n",
       "      <td>9900</td>\n",
       "      <td>NaN</td>\n",
       "      <td>NaN</td>\n",
       "      <td>NaN</td>\n",
       "    </tr>\n",
       "  </tbody>\n",
       "</table>\n",
       "</div>"
      ],
      "text/plain": [
       "  loja  dia  valor loja  dia  valor loja  dia    valor\n",
       "0    A  sex   7500    B  sex   5100    C  sab   7500.0\n",
       "1    A  sab   9500    B  sab   8250    C  dom  11800.0\n",
       "2    A  dom   8200    B  dom   9900  NaN  NaN      NaN"
      ]
     },
     "execution_count": 6,
     "metadata": {},
     "output_type": "execute_result"
    }
   ],
   "source": [
    "pd.concat([Mercearia, Farmácia, Restaurante], axis=1)"
   ]
  },
  {
   "cell_type": "markdown",
   "id": "a7223203",
   "metadata": {},
   "source": [
    "__2.__ Com base nos dataframes a seguir, que guardam informações de matriculas de alunos\n",
    "em dois cursos, um de SQL e outro de Python:"
   ]
  },
  {
   "cell_type": "code",
   "execution_count": 7,
   "id": "e0d8ec33",
   "metadata": {},
   "outputs": [],
   "source": [
    "SQL = pd.DataFrame({\"email\":[\"rakesh@xyz.com\",\n",
    "\"ecg@acmecorpus.com\"]})"
   ]
  },
  {
   "cell_type": "code",
   "execution_count": 8,
   "id": "d7cc05df",
   "metadata": {},
   "outputs": [],
   "source": [
    "PYTHON = pd.DataFrame({\"email\":[\"ana@xyz.com\",\n",
    "\"jonas@acmecorpus.com\",\n",
    "\"rakesh@xyz.com\"]})"
   ]
  },
  {
   "cell_type": "markdown",
   "id": "8824cb20",
   "metadata": {},
   "source": [
    "responda:\n",
    "\n",
    "(a) quais são os alunos distintos, considerando ambas as listas?\n",
    "\n",
    "(b) quais são os alunos que fizeram ambos os cursos?\n",
    "\n",
    "(c) quais os alunos que realizaram o curso de SQL, mas não o de PYTHON (e\n",
    "vice-versa)?"
   ]
  },
  {
   "cell_type": "markdown",
   "id": "90246a29",
   "metadata": {},
   "source": [
    "# Respostas"
   ]
  },
  {
   "cell_type": "code",
   "execution_count": 9,
   "id": "9e0baf61",
   "metadata": {},
   "outputs": [],
   "source": [
    "d = pd.concat([SQL, PYTHON], ignore_index=True)\n",
    "d = d.drop_duplicates()"
   ]
  },
  {
   "cell_type": "code",
   "execution_count": 10,
   "id": "3e16937a",
   "metadata": {},
   "outputs": [
    {
     "data": {
      "text/html": [
       "<div>\n",
       "<style scoped>\n",
       "    .dataframe tbody tr th:only-of-type {\n",
       "        vertical-align: middle;\n",
       "    }\n",
       "\n",
       "    .dataframe tbody tr th {\n",
       "        vertical-align: top;\n",
       "    }\n",
       "\n",
       "    .dataframe thead th {\n",
       "        text-align: right;\n",
       "    }\n",
       "</style>\n",
       "<table border=\"1\" class=\"dataframe\">\n",
       "  <thead>\n",
       "    <tr style=\"text-align: right;\">\n",
       "      <th></th>\n",
       "      <th>email</th>\n",
       "    </tr>\n",
       "  </thead>\n",
       "  <tbody>\n",
       "    <tr>\n",
       "      <th>0</th>\n",
       "      <td>rakesh@xyz.com</td>\n",
       "    </tr>\n",
       "    <tr>\n",
       "      <th>1</th>\n",
       "      <td>ecg@acmecorpus.com</td>\n",
       "    </tr>\n",
       "    <tr>\n",
       "      <th>2</th>\n",
       "      <td>ana@xyz.com</td>\n",
       "    </tr>\n",
       "    <tr>\n",
       "      <th>3</th>\n",
       "      <td>jonas@acmecorpus.com</td>\n",
       "    </tr>\n",
       "  </tbody>\n",
       "</table>\n",
       "</div>"
      ],
      "text/plain": [
       "                  email\n",
       "0        rakesh@xyz.com\n",
       "1    ecg@acmecorpus.com\n",
       "2           ana@xyz.com\n",
       "3  jonas@acmecorpus.com"
      ]
     },
     "execution_count": 10,
     "metadata": {},
     "output_type": "execute_result"
    }
   ],
   "source": [
    "d"
   ]
  },
  {
   "cell_type": "code",
   "execution_count": 12,
   "id": "c7919946",
   "metadata": {},
   "outputs": [
    {
     "data": {
      "text/html": [
       "<div>\n",
       "<style scoped>\n",
       "    .dataframe tbody tr th:only-of-type {\n",
       "        vertical-align: middle;\n",
       "    }\n",
       "\n",
       "    .dataframe tbody tr th {\n",
       "        vertical-align: top;\n",
       "    }\n",
       "\n",
       "    .dataframe thead th {\n",
       "        text-align: right;\n",
       "    }\n",
       "</style>\n",
       "<table border=\"1\" class=\"dataframe\">\n",
       "  <thead>\n",
       "    <tr style=\"text-align: right;\">\n",
       "      <th></th>\n",
       "      <th>email</th>\n",
       "    </tr>\n",
       "  </thead>\n",
       "  <tbody>\n",
       "    <tr>\n",
       "      <th>0</th>\n",
       "      <td>rakesh@xyz.com</td>\n",
       "    </tr>\n",
       "  </tbody>\n",
       "</table>\n",
       "</div>"
      ],
      "text/plain": [
       "            email\n",
       "0  rakesh@xyz.com"
      ]
     },
     "execution_count": 12,
     "metadata": {},
     "output_type": "execute_result"
    }
   ],
   "source": [
    "a = SQL.merge(PYTHON)\n",
    "a"
   ]
  },
  {
   "cell_type": "code",
   "execution_count": 13,
   "id": "bf3c9495",
   "metadata": {},
   "outputs": [
    {
     "data": {
      "text/html": [
       "<div>\n",
       "<style scoped>\n",
       "    .dataframe tbody tr th:only-of-type {\n",
       "        vertical-align: middle;\n",
       "    }\n",
       "\n",
       "    .dataframe tbody tr th {\n",
       "        vertical-align: top;\n",
       "    }\n",
       "\n",
       "    .dataframe thead th {\n",
       "        text-align: right;\n",
       "    }\n",
       "</style>\n",
       "<table border=\"1\" class=\"dataframe\">\n",
       "  <thead>\n",
       "    <tr style=\"text-align: right;\">\n",
       "      <th></th>\n",
       "      <th>email</th>\n",
       "    </tr>\n",
       "  </thead>\n",
       "  <tbody>\n",
       "    <tr>\n",
       "      <th>1</th>\n",
       "      <td>ecg@acmecorpus.com</td>\n",
       "    </tr>\n",
       "  </tbody>\n",
       "</table>\n",
       "</div>"
      ],
      "text/plain": [
       "                email\n",
       "1  ecg@acmecorpus.com"
      ]
     },
     "execution_count": 13,
     "metadata": {},
     "output_type": "execute_result"
    }
   ],
   "source": [
    "ap_sql = SQL[SQL.email.isin(PYTHON.email)==False]\n",
    "ap_sql"
   ]
  },
  {
   "cell_type": "markdown",
   "id": "30f7887d",
   "metadata": {},
   "source": [
    "__3.__ Considere os dois dataframes a seguir, referentes aos dados sobre os departamentos\n",
    "e os funcionários de uma empresa."
   ]
  },
  {
   "cell_type": "code",
   "execution_count": 16,
   "id": "2ef89b2e",
   "metadata": {},
   "outputs": [],
   "source": [
    "dic_emp = {\"id\":[\"D1\",\"D2\",\"D3\",\"D4\"],\n",
    "\"nomDepto\": [\"Compras\",\"RH\",\"TI\",\"Vendas\"],\n",
    "\"local\":[\"SP\",\"RJ\",\"RJ\",\"SP\"]}"
   ]
  },
  {
   "cell_type": "code",
   "execution_count": 17,
   "id": "91791ceb",
   "metadata": {},
   "outputs": [],
   "source": [
    "dic_func = {\"num\":[3199,3269,3555,3788,3844],\n",
    "\"nome\": [\"Ana\",\"David\",\"José\",\"Marina\",\"Luís\"],\n",
    "\"salario\":[1600,2975,1500,5000,3000],\n",
    "\"idDepto\": [\"D2\",\"D3\",None,\"D2\",\"D4\"]}"
   ]
  },
  {
   "cell_type": "code",
   "execution_count": 18,
   "id": "c618d20f",
   "metadata": {},
   "outputs": [],
   "source": [
    "empresa = pd.DataFrame(dic_emp)\n",
    "funcionarios = pd.DataFrame(dic_func)"
   ]
  },
  {
   "cell_type": "markdown",
   "id": "7edef498",
   "metadata": {},
   "source": [
    "__Combine os dados dos funcionários com os dados dos departamentos para criar um\n",
    "novo dataframe completo sobre a empresa, usando merge.__"
   ]
  },
  {
   "cell_type": "code",
   "execution_count": 19,
   "id": "73797214",
   "metadata": {},
   "outputs": [],
   "source": [
    "nd = pd.merge(empresa, funcionarios, left_on=\"id\", right_on=\"idDepto\")"
   ]
  },
  {
   "cell_type": "code",
   "execution_count": 20,
   "id": "31ce0977",
   "metadata": {},
   "outputs": [
    {
     "data": {
      "text/html": [
       "<div>\n",
       "<style scoped>\n",
       "    .dataframe tbody tr th:only-of-type {\n",
       "        vertical-align: middle;\n",
       "    }\n",
       "\n",
       "    .dataframe tbody tr th {\n",
       "        vertical-align: top;\n",
       "    }\n",
       "\n",
       "    .dataframe thead th {\n",
       "        text-align: right;\n",
       "    }\n",
       "</style>\n",
       "<table border=\"1\" class=\"dataframe\">\n",
       "  <thead>\n",
       "    <tr style=\"text-align: right;\">\n",
       "      <th></th>\n",
       "      <th>id</th>\n",
       "      <th>nomDepto</th>\n",
       "      <th>local</th>\n",
       "    </tr>\n",
       "  </thead>\n",
       "  <tbody>\n",
       "    <tr>\n",
       "      <th>0</th>\n",
       "      <td>D1</td>\n",
       "      <td>Compras</td>\n",
       "      <td>SP</td>\n",
       "    </tr>\n",
       "    <tr>\n",
       "      <th>1</th>\n",
       "      <td>D2</td>\n",
       "      <td>RH</td>\n",
       "      <td>RJ</td>\n",
       "    </tr>\n",
       "    <tr>\n",
       "      <th>2</th>\n",
       "      <td>D3</td>\n",
       "      <td>TI</td>\n",
       "      <td>RJ</td>\n",
       "    </tr>\n",
       "    <tr>\n",
       "      <th>3</th>\n",
       "      <td>D4</td>\n",
       "      <td>Vendas</td>\n",
       "      <td>SP</td>\n",
       "    </tr>\n",
       "  </tbody>\n",
       "</table>\n",
       "</div>"
      ],
      "text/plain": [
       "   id nomDepto local\n",
       "0  D1  Compras    SP\n",
       "1  D2       RH    RJ\n",
       "2  D3       TI    RJ\n",
       "3  D4   Vendas    SP"
      ]
     },
     "execution_count": 20,
     "metadata": {},
     "output_type": "execute_result"
    }
   ],
   "source": [
    "empresa"
   ]
  },
  {
   "cell_type": "code",
   "execution_count": 21,
   "id": "d9654cbb",
   "metadata": {},
   "outputs": [
    {
     "data": {
      "text/html": [
       "<div>\n",
       "<style scoped>\n",
       "    .dataframe tbody tr th:only-of-type {\n",
       "        vertical-align: middle;\n",
       "    }\n",
       "\n",
       "    .dataframe tbody tr th {\n",
       "        vertical-align: top;\n",
       "    }\n",
       "\n",
       "    .dataframe thead th {\n",
       "        text-align: right;\n",
       "    }\n",
       "</style>\n",
       "<table border=\"1\" class=\"dataframe\">\n",
       "  <thead>\n",
       "    <tr style=\"text-align: right;\">\n",
       "      <th></th>\n",
       "      <th>num</th>\n",
       "      <th>nome</th>\n",
       "      <th>salario</th>\n",
       "      <th>idDepto</th>\n",
       "    </tr>\n",
       "  </thead>\n",
       "  <tbody>\n",
       "    <tr>\n",
       "      <th>0</th>\n",
       "      <td>3199</td>\n",
       "      <td>Ana</td>\n",
       "      <td>1600</td>\n",
       "      <td>D2</td>\n",
       "    </tr>\n",
       "    <tr>\n",
       "      <th>1</th>\n",
       "      <td>3269</td>\n",
       "      <td>David</td>\n",
       "      <td>2975</td>\n",
       "      <td>D3</td>\n",
       "    </tr>\n",
       "    <tr>\n",
       "      <th>2</th>\n",
       "      <td>3555</td>\n",
       "      <td>José</td>\n",
       "      <td>1500</td>\n",
       "      <td>None</td>\n",
       "    </tr>\n",
       "    <tr>\n",
       "      <th>3</th>\n",
       "      <td>3788</td>\n",
       "      <td>Marina</td>\n",
       "      <td>5000</td>\n",
       "      <td>D2</td>\n",
       "    </tr>\n",
       "    <tr>\n",
       "      <th>4</th>\n",
       "      <td>3844</td>\n",
       "      <td>Luís</td>\n",
       "      <td>3000</td>\n",
       "      <td>D4</td>\n",
       "    </tr>\n",
       "  </tbody>\n",
       "</table>\n",
       "</div>"
      ],
      "text/plain": [
       "    num    nome  salario idDepto\n",
       "0  3199     Ana     1600      D2\n",
       "1  3269   David     2975      D3\n",
       "2  3555    José     1500    None\n",
       "3  3788  Marina     5000      D2\n",
       "4  3844    Luís     3000      D4"
      ]
     },
     "execution_count": 21,
     "metadata": {},
     "output_type": "execute_result"
    }
   ],
   "source": [
    "funcionarios"
   ]
  },
  {
   "cell_type": "code",
   "execution_count": 23,
   "id": "efca99d3",
   "metadata": {},
   "outputs": [
    {
     "data": {
      "text/html": [
       "<div>\n",
       "<style scoped>\n",
       "    .dataframe tbody tr th:only-of-type {\n",
       "        vertical-align: middle;\n",
       "    }\n",
       "\n",
       "    .dataframe tbody tr th {\n",
       "        vertical-align: top;\n",
       "    }\n",
       "\n",
       "    .dataframe thead th {\n",
       "        text-align: right;\n",
       "    }\n",
       "</style>\n",
       "<table border=\"1\" class=\"dataframe\">\n",
       "  <thead>\n",
       "    <tr style=\"text-align: right;\">\n",
       "      <th></th>\n",
       "      <th>id</th>\n",
       "      <th>nomDepto</th>\n",
       "      <th>local</th>\n",
       "      <th>num</th>\n",
       "      <th>nome</th>\n",
       "      <th>salario</th>\n",
       "      <th>idDepto</th>\n",
       "    </tr>\n",
       "  </thead>\n",
       "  <tbody>\n",
       "    <tr>\n",
       "      <th>0</th>\n",
       "      <td>D2</td>\n",
       "      <td>RH</td>\n",
       "      <td>RJ</td>\n",
       "      <td>3199</td>\n",
       "      <td>Ana</td>\n",
       "      <td>1600</td>\n",
       "      <td>D2</td>\n",
       "    </tr>\n",
       "    <tr>\n",
       "      <th>1</th>\n",
       "      <td>D2</td>\n",
       "      <td>RH</td>\n",
       "      <td>RJ</td>\n",
       "      <td>3788</td>\n",
       "      <td>Marina</td>\n",
       "      <td>5000</td>\n",
       "      <td>D2</td>\n",
       "    </tr>\n",
       "    <tr>\n",
       "      <th>2</th>\n",
       "      <td>D3</td>\n",
       "      <td>TI</td>\n",
       "      <td>RJ</td>\n",
       "      <td>3269</td>\n",
       "      <td>David</td>\n",
       "      <td>2975</td>\n",
       "      <td>D3</td>\n",
       "    </tr>\n",
       "    <tr>\n",
       "      <th>3</th>\n",
       "      <td>D4</td>\n",
       "      <td>Vendas</td>\n",
       "      <td>SP</td>\n",
       "      <td>3844</td>\n",
       "      <td>Luís</td>\n",
       "      <td>3000</td>\n",
       "      <td>D4</td>\n",
       "    </tr>\n",
       "  </tbody>\n",
       "</table>\n",
       "</div>"
      ],
      "text/plain": [
       "   id nomDepto local   num    nome  salario idDepto\n",
       "0  D2       RH    RJ  3199     Ana     1600      D2\n",
       "1  D2       RH    RJ  3788  Marina     5000      D2\n",
       "2  D3       TI    RJ  3269   David     2975      D3\n",
       "3  D4   Vendas    SP  3844    Luís     3000      D4"
      ]
     },
     "execution_count": 23,
     "metadata": {},
     "output_type": "execute_result"
    }
   ],
   "source": [
    "nd"
   ]
  }
 ],
 "metadata": {
  "kernelspec": {
   "display_name": "Python 3",
   "language": "python",
   "name": "python3"
  },
  "language_info": {
   "codemirror_mode": {
    "name": "ipython",
    "version": 3
   },
   "file_extension": ".py",
   "mimetype": "text/x-python",
   "name": "python",
   "nbconvert_exporter": "python",
   "pygments_lexer": "ipython3",
   "version": "3.8.8"
  }
 },
 "nbformat": 4,
 "nbformat_minor": 5
}
