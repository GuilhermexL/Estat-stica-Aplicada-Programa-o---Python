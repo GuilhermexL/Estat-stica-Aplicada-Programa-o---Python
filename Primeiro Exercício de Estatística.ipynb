{
 "cells": [
  {
   "cell_type": "markdown",
   "id": "6f579c9b",
   "metadata": {},
   "source": [
    "# Lista de Exercícios da Semana 2"
   ]
  },
  {
   "cell_type": "markdown",
   "id": "2b6312fc",
   "metadata": {},
   "source": [
    "__Aluno:__ Guilherme Santos Silva"
   ]
  },
  {
   "cell_type": "markdown",
   "id": "ec1449ee",
   "metadata": {},
   "source": [
    "__1.__ Como importar a biblioteca numpy e verificar a versão atualizada?"
   ]
  },
  {
   "cell_type": "markdown",
   "id": "57003fab",
   "metadata": {},
   "source": [
    "Resposta: Para importar basta utilizar a função *import* e logo em seguida digitar numpy. E para verificar a versão mais atualizada basta colocar no prompt: import numpy / print numpy.__version__"
   ]
  },
  {
   "cell_type": "markdown",
   "id": "ad700305",
   "metadata": {},
   "source": [
    "__2.__ Explique, com suas palavras, os conceitos de vetorização e broadcasting que Nympy implementa."
   ]
  },
  {
   "cell_type": "markdown",
   "id": "8683b4b4",
   "metadata": {},
   "source": [
    "Resposta: __Vetorização__ é o que nos permite aplicar uma função a um array em vez de aplicar uma função de elemento a elemento. Já o __Broadcasting__ se refere à capacidade do NumPy de tratar matrizes de diferentes formas durante as operações aritméticas que em geralmente são feitas em elementos correspondentes."
   ]
  },
  {
   "cell_type": "markdown",
   "id": "1f7416a7",
   "metadata": {},
   "source": [
    "__3.__ Liste as diferenças entre uma lista, um dicionário, um array numpy, dando exemplos\n",
    "de aplicação de em que cada tipo seria mais interessante."
   ]
  },
  {
   "cell_type": "markdown",
   "id": "dc6b9507",
   "metadata": {},
   "source": [
    "Resposta: Tanto listas como arrays são objetos mais usados e têm como diferenças a performarce e funcionalidades disponíveis como também, no array todos os elemntos têm que ter o mesmo tipo de dados, e na lista pode ter elemntos de tipos diferentes. O dicionário é um tipo de coleção diferente pois ele é caracterizado como um tipo de mapeamento do python que é feito a partir de uma chave para atribuir um valor. Um exemplo de aplicação sobre as listas basta colocar seus intens em colchetes [] e separar cade elemento por uma vírgula. Ex:lista = ['x', 'y', 'z', '8',]; no caso do array é preciso importar o módulo ou pacote. Ex: >>>__import__ array __as__ ar; Já em dicionário é preciso começar com o dicionário vazio e adicionar pares chaves ao valor, nesse caso dicionário vazio é escrito de forma em chaves vazia {}. Ex: Determinar idioma que irá usar (nesse caso o inglês), eng2sp = {}.\n"
   ]
  },
  {
   "cell_type": "markdown",
   "id": "04743ff1",
   "metadata": {},
   "source": [
    "__4.__ Forme a matriz\n",
    "[[1, 6, 11],\n",
    "[2, 7, 12],\n",
    "[3, 8, 13],\n",
    "[4, 9, 14],\n",
    "[5, 10, 15]]\n",
    "usando lista e array Numpy."
   ]
  },
  {
   "cell_type": "code",
   "execution_count": 13,
   "id": "943bce4f",
   "metadata": {},
   "outputs": [],
   "source": [
    "#Resposta:\n",
    "import numpy as np"
   ]
  },
  {
   "cell_type": "code",
   "execution_count": 26,
   "id": "55ff8f2e",
   "metadata": {},
   "outputs": [
    {
     "name": "stdout",
     "output_type": "stream",
     "text": [
      "[[1, 6, 11], [2, 7, 12], [3, 8, 13], [4, 9, 14], [5, 10, 15]]\n"
     ]
    }
   ],
   "source": [
    "lista = [[1, 6, 11],\n",
    "[2, 7, 12],\n",
    "[3, 8, 13],\n",
    "[4, 9, 14],\n",
    "[5, 10, 15]]\n",
    "print(lista)"
   ]
  },
  {
   "cell_type": "code",
   "execution_count": 27,
   "id": "67ef74e1",
   "metadata": {
    "scrolled": true
   },
   "outputs": [
    {
     "data": {
      "text/plain": [
       "array([[ 1,  6, 11],\n",
       "       [ 2,  7, 12],\n",
       "       [ 3,  8, 13],\n",
       "       [ 4,  9, 14],\n",
       "       [ 5, 10, 15]])"
      ]
     },
     "execution_count": 27,
     "metadata": {},
     "output_type": "execute_result"
    }
   ],
   "source": [
    "np.array( lista )"
   ]
  },
  {
   "cell_type": "markdown",
   "id": "8394e208",
   "metadata": {},
   "source": [
    "__5.__ Usando numpy, crie:\n",
    "\n",
    "(a) um vetor de 10 elementos entre 1 e 20\n",
    "\n",
    "(b) um vetor entre 1 e 20, com passo de 2\n",
    "\n",
    "(c) uma matriz 3x3 cujos elementos da diagonal sejam o vetor [1,2,3] e os demais\n",
    "sejam todos 0."
   ]
  },
  {
   "cell_type": "code",
   "execution_count": 37,
   "id": "ed0498fc",
   "metadata": {},
   "outputs": [
    {
     "data": {
      "text/plain": [
       "array([ 3,  1,  1, 15, 14, 18,  9,  2, 15, 18])"
      ]
     },
     "execution_count": 37,
     "metadata": {},
     "output_type": "execute_result"
    }
   ],
   "source": [
    "#Resposta da letra a: \n",
    "np.random.randint(1,20,10)"
   ]
  },
  {
   "cell_type": "code",
   "execution_count": 59,
   "id": "7f12ec9f",
   "metadata": {},
   "outputs": [],
   "source": [
    "#Resposta da letra b part.1:\n",
    "a = np.arange(20)"
   ]
  },
  {
   "cell_type": "code",
   "execution_count": 62,
   "id": "77acbb90",
   "metadata": {},
   "outputs": [
    {
     "data": {
      "text/plain": [
       "array([ 1,  3,  5,  7,  9, 11, 13, 15, 17, 19])"
      ]
     },
     "execution_count": 62,
     "metadata": {},
     "output_type": "execute_result"
    }
   ],
   "source": [
    "#Resposta da letra b part.2:\n",
    "a[1:20:2]"
   ]
  },
  {
   "cell_type": "code",
   "execution_count": 63,
   "id": "603476c1",
   "metadata": {
    "scrolled": true
   },
   "outputs": [
    {
     "data": {
      "text/plain": [
       "array([[1, 0, 0],\n",
       "       [0, 2, 0],\n",
       "       [0, 0, 3]])"
      ]
     },
     "execution_count": 63,
     "metadata": {},
     "output_type": "execute_result"
    }
   ],
   "source": [
    "#Resposta da letra c: \n",
    "np.diag ([1,2,3])"
   ]
  }
 ],
 "metadata": {
  "kernelspec": {
   "display_name": "Python 3",
   "language": "python",
   "name": "python3"
  },
  "language_info": {
   "codemirror_mode": {
    "name": "ipython",
    "version": 3
   },
   "file_extension": ".py",
   "mimetype": "text/x-python",
   "name": "python",
   "nbconvert_exporter": "python",
   "pygments_lexer": "ipython3",
   "version": "3.8.8"
  }
 },
 "nbformat": 4,
 "nbformat_minor": 5
}
